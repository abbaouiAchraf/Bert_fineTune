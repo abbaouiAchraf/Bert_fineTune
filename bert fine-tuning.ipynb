{
 "cells": [
  {
   "cell_type": "markdown",
   "source": [
    "# Fine-Tuning BERT for Multiclass Text Classification"
   ],
   "metadata": {
    "collapsed": false
   },
   "id": "5d5f505f26dfd82f"
  },
  {
   "cell_type": "markdown",
   "source": [
    "## First What is BERT?\n",
    "\n",
    "BERT stands for Bidirectional Encoder Representations from Transformers. The name itself gives us several clues to what BERT is all about.\n",
    "\n",
    "BERT architecture consists of several Transformer encoders stacked together. Each Transformer encoder encapsulates two sub-layers: a self-attention layer and a feed-forward layer.\n",
    "\n",
    "### There are two different BERT models:\n",
    "\n",
    "- BERT base, which is a BERT model consists of 12 layers of Transformer encoder, 12 attention heads, 768 hidden size, and 110M parameters.\n",
    "\n",
    "- BERT large, which is a BERT model consists of 24 layers of Transformer encoder,16 attention heads, 1024 hidden size, and 340 parameters.\n",
    "\n",
    "\n",
    "\n",
    "BERT Input and Output\n",
    "BERT model expects a sequence of tokens (words) as an input. In each sequence of tokens, there are two special tokens that BERT would expect as an input:\n",
    "\n",
    "- [CLS]: This is the first token of every sequence, which stands for classification token.\n",
    "- [SEP]: This is the token that makes BERT know which token belongs to which sequence. This special token is mainly important for a next sentence prediction task or question-answering task. If we only have one sequence, then this token will be appended to the end of the sequence.\n",
    "\n",
    "\n",
    "It is also important to note that the maximum size of tokens that can be fed into BERT model is 512. If the tokens in a sequence are less than 512, we can use padding to fill the unused token slots with [PAD] token. If the tokens in a sequence are longer than 512, then we need to do a truncation.\n",
    "\n",
    "And that’s all that BERT expects as input.\n",
    "\n",
    "BERT model then will output an embedding vector of size 768 in each of the tokens. We can use these vectors as an input for different kinds of NLP applications, whether it is text classification, next sentence prediction, Named-Entity-Recognition (NER), or question-answering.\n",
    "\n",
    "\n",
    "------------\n",
    "\n",
    "**For a text classification task**, we focus our attention on the embedding vector output from the special [CLS] token. This means that we’re going to use the embedding vector of size 768 from [CLS] token as an input for our classifier, which then will output a vector of size the number of classes in our classification task.\n",
    "\n",
    "-------------------------"
   ],
   "metadata": {
    "collapsed": false
   },
   "id": "77ce2a99f7f6d1c9"
  },
  {
   "cell_type": "code",
   "outputs": [
    {
     "name": "stdout",
     "output_type": "stream",
     "text": [
      "WARNING:tensorflow:From C:\\Users\\DeusExMachina\\anaconda3\\Lib\\site-packages\\keras\\src\\losses.py:2976: The name tf.losses.sparse_softmax_cross_entropy is deprecated. Please use tf.compat.v1.losses.sparse_softmax_cross_entropy instead.\n"
     ]
    }
   ],
   "source": [
    "# Importing libraries\n",
    "import transformers\n",
    "from transformers import DistilBertTokenizer, DistilBertForSequenceClassification, TextClassificationPipeline\n",
    "import pandas as pd\n",
    "import numpy as np\n",
    "import torch\n",
    "import json\n",
    "import re\n",
    "import nltk\n",
    "import gc\n",
    "from sklearn.model_selection import train_test_split\n",
    "from nltk.corpus import stopwords\n",
    "import matplotlib.pyplot as plt\n",
    "import seaborn as sns\n",
    "from tqdm import tqdm\n",
    "from plotly.offline import iplot\n",
    "import warnings\n",
    "warnings.filterwarnings('ignore')"
   ],
   "metadata": {
    "collapsed": false,
    "ExecuteTime": {
     "end_time": "2024-01-30T10:11:47.344787500Z",
     "start_time": "2024-01-30T10:11:28.423920100Z"
    }
   },
   "id": "96b59289ac5c601",
   "execution_count": 1
  },
  {
   "cell_type": "code",
   "outputs": [
    {
     "name": "stdout",
     "output_type": "stream",
     "text": [
      "Using device: cuda\n"
     ]
    }
   ],
   "source": [
    "device = torch.device(\"cuda\" if torch.cuda.is_available() else \"cpu\")\n",
    "print(f\"Using device: {device}\")"
   ],
   "metadata": {
    "collapsed": false,
    "ExecuteTime": {
     "end_time": "2024-01-30T10:12:23.810161500Z",
     "start_time": "2024-01-30T10:12:23.789137500Z"
    }
   },
   "id": "e82d48e250c31ff",
   "execution_count": 17
  },
  {
   "cell_type": "code",
   "outputs": [
    {
     "data": {
      "text/plain": "'NVIDIA GeForce GTX 1650'"
     },
     "execution_count": 22,
     "metadata": {},
     "output_type": "execute_result"
    }
   ],
   "source": [
    "torch.cuda.get_device_name(torch.cuda.current_device())"
   ],
   "metadata": {
    "collapsed": false,
    "ExecuteTime": {
     "end_time": "2024-01-30T10:14:22.167571600Z",
     "start_time": "2024-01-30T10:14:22.141958Z"
    }
   },
   "id": "cda09773f9b880ca",
   "execution_count": 22
  },
  {
   "cell_type": "code",
   "outputs": [
    {
     "data": {
      "text/plain": "        category                                               text\n0           tech  tv future in the hands of viewers with home th...\n1       business  worldcom boss  left books alone  former worldc...\n2          sport  tigers wary of farrell  gamble  leicester say ...\n3          sport  yeading face newcastle in fa cup premiership s...\n4  entertainment  ocean s twelve raids box office ocean s twelve...\n5       politics  howard hits back at mongrel jibe michael howar...\n6       politics  blair prepares to name poll date tony blair is...\n7          sport  henman hopes ended in dubai third seed tim hen...\n8          sport  wilkinson fit to face edinburgh england captai...\n9  entertainment  last star wars  not for children  the sixth an...",
      "text/html": "<div>\n<style scoped>\n    .dataframe tbody tr th:only-of-type {\n        vertical-align: middle;\n    }\n\n    .dataframe tbody tr th {\n        vertical-align: top;\n    }\n\n    .dataframe thead th {\n        text-align: right;\n    }\n</style>\n<table border=\"1\" class=\"dataframe\">\n  <thead>\n    <tr style=\"text-align: right;\">\n      <th></th>\n      <th>category</th>\n      <th>text</th>\n    </tr>\n  </thead>\n  <tbody>\n    <tr>\n      <th>0</th>\n      <td>tech</td>\n      <td>tv future in the hands of viewers with home th...</td>\n    </tr>\n    <tr>\n      <th>1</th>\n      <td>business</td>\n      <td>worldcom boss  left books alone  former worldc...</td>\n    </tr>\n    <tr>\n      <th>2</th>\n      <td>sport</td>\n      <td>tigers wary of farrell  gamble  leicester say ...</td>\n    </tr>\n    <tr>\n      <th>3</th>\n      <td>sport</td>\n      <td>yeading face newcastle in fa cup premiership s...</td>\n    </tr>\n    <tr>\n      <th>4</th>\n      <td>entertainment</td>\n      <td>ocean s twelve raids box office ocean s twelve...</td>\n    </tr>\n    <tr>\n      <th>5</th>\n      <td>politics</td>\n      <td>howard hits back at mongrel jibe michael howar...</td>\n    </tr>\n    <tr>\n      <th>6</th>\n      <td>politics</td>\n      <td>blair prepares to name poll date tony blair is...</td>\n    </tr>\n    <tr>\n      <th>7</th>\n      <td>sport</td>\n      <td>henman hopes ended in dubai third seed tim hen...</td>\n    </tr>\n    <tr>\n      <th>8</th>\n      <td>sport</td>\n      <td>wilkinson fit to face edinburgh england captai...</td>\n    </tr>\n    <tr>\n      <th>9</th>\n      <td>entertainment</td>\n      <td>last star wars  not for children  the sixth an...</td>\n    </tr>\n  </tbody>\n</table>\n</div>"
     },
     "execution_count": 2,
     "metadata": {},
     "output_type": "execute_result"
    }
   ],
   "source": [
    "DATA_PATH = 'data/bbc-text.csv'\n",
    "\n",
    "dataset = pd.read_csv(DATA_PATH)\n",
    "dataset.head(10)"
   ],
   "metadata": {
    "collapsed": false,
    "ExecuteTime": {
     "end_time": "2024-01-30T10:11:47.439811300Z",
     "start_time": "2024-01-30T10:11:47.345787300Z"
    }
   },
   "id": "e446b7242e9ee474",
   "execution_count": 2
  },
  {
   "cell_type": "code",
   "outputs": [
    {
     "name": "stdout",
     "output_type": "stream",
     "text": [
      "Dataset columns: ['category' 'text']\n",
      "Dataset shape: (2225, 2)\n",
      "Number of classes: 5\n",
      "Classes: ['tech' 'business' 'sport' 'entertainment' 'politics']\n"
     ]
    }
   ],
   "source": [
    "# Printing dataset information\n",
    "print(\"Dataset columns:\", dataset.columns.values)\n",
    "print(\"Dataset shape:\", dataset.shape)\n",
    "print(\"Number of classes:\", len(dataset.category.unique()))\n",
    "print(\"Classes:\", dataset.category.unique())"
   ],
   "metadata": {
    "collapsed": false,
    "ExecuteTime": {
     "end_time": "2024-01-30T10:11:47.460582700Z",
     "start_time": "2024-01-30T10:11:47.438812900Z"
    }
   },
   "id": "565e3b890cf104ec",
   "execution_count": 3
  },
  {
   "cell_type": "code",
   "outputs": [
    {
     "name": "stdout",
     "output_type": "stream",
     "text": [
      "Category counts:\n",
      " category\n",
      "sport            511\n",
      "business         510\n",
      "politics         417\n",
      "tech             401\n",
      "entertainment    386\n",
      "Name: count, dtype: int64\n"
     ]
    },
    {
     "data": {
      "text/plain": "<Figure size 1200x600 with 1 Axes>",
      "image/png": "[encoded data removed]"
     },
     "metadata": {},
     "output_type": "display_data"
    }
   ],
   "source": [
    "# Distro of category column in our dataset\n",
    "category_counts = dataset.category.value_counts()\n",
    "print(\"Category counts:\\n\", category_counts)\n",
    "\n",
    "# Plotting the distribution of category column\n",
    "plt.figure(figsize=(12,6))\n",
    "sns.barplot(x=category_counts.index, y=category_counts.values)\n",
    "plt.title(\"Category Counts\")\n",
    "plt.show()"
   ],
   "metadata": {
    "collapsed": false,
    "ExecuteTime": {
     "end_time": "2024-01-30T10:11:48.111706800Z",
     "start_time": "2024-01-30T10:11:47.450594500Z"
    }
   },
   "id": "2abe765f5ed83c83",
   "execution_count": 4
  },
  {
   "cell_type": "code",
   "outputs": [
    {
     "name": "stdout",
     "output_type": "stream",
     "text": [
      "Average word count: 419.75730337078653\n",
      "Max word count: 4759\n",
      "Min word count: 94\n"
     ]
    }
   ],
   "source": [
    "# Distribution of text word count\n",
    "dataset['word_count'] = dataset.text.apply(lambda x: len(x.split(' ')))\n",
    "print(\"Average word count:\", dataset.word_count.mean())\n",
    "print(\"Max word count:\", dataset.word_count.max())\n",
    "print(\"Min word count:\", dataset.word_count.min())"
   ],
   "metadata": {
    "collapsed": false,
    "ExecuteTime": {
     "end_time": "2024-01-30T10:11:48.234617600Z",
     "start_time": "2024-01-30T10:11:48.125711Z"
    }
   },
   "id": "3c51d1021e6959d3",
   "execution_count": 5
  },
  {
   "cell_type": "code",
   "outputs": [
    {
     "data": {
      "text/plain": "<Figure size 1200x600 with 1 Axes>",
      "image/png": "[encoded data removed]"
     },
     "metadata": {},
     "output_type": "display_data"
    }
   ],
   "source": [
    "# Plotting the distribution of text word count\n",
    "plt.figure(figsize=(12,6))\n",
    "sns.distplot(dataset.word_count)\n",
    "plt.title(\"Text Word Count Distribution\")\n",
    "plt.show()"
   ],
   "metadata": {
    "collapsed": false,
    "ExecuteTime": {
     "end_time": "2024-01-30T10:11:48.483558800Z",
     "start_time": "2024-01-30T10:11:48.187616300Z"
    }
   },
   "id": "ee22b1f90cbb5fbb",
   "execution_count": 6
  },
  {
   "cell_type": "code",
   "outputs": [
    {
     "name": "stdout",
     "output_type": "stream",
     "text": [
      "Original values and their corresponding codes:\n",
      "      tech :  4\n",
      "      business :  0\n",
      "      sport :  3\n",
      "      entertainment :  1\n",
      "      politics :  2\n"
     ]
    }
   ],
   "source": [
    "# Coding target column to numeric\n",
    "dataset['target'] = dataset.category.astype('category').cat.codes\n",
    "# Original values and their corresponding codes\n",
    "print(\"Original values and their corresponding codes:\")\n",
    "for cat, code in zip(dataset.category.unique(), dataset.target.unique()):\n",
    "    print(\"     \", cat, \": \", code)"
   ],
   "metadata": {
    "collapsed": false,
    "ExecuteTime": {
     "end_time": "2024-01-30T10:11:48.509650300Z",
     "start_time": "2024-01-30T10:11:48.482558300Z"
    }
   },
   "id": "84ab92f3d4b18feb",
   "execution_count": 7
  },
  {
   "cell_type": "code",
   "outputs": [],
   "source": [
    "mapper = dict(zip(dataset.target.unique(), dataset.category.unique()))"
   ],
   "metadata": {
    "collapsed": false,
    "ExecuteTime": {
     "end_time": "2024-01-30T10:11:48.603436Z",
     "start_time": "2024-01-30T10:11:48.498527400Z"
    }
   },
   "id": "f067850cde26869f",
   "execution_count": 8
  },
  {
   "cell_type": "code",
   "outputs": [
    {
     "data": {
      "text/plain": "        category                                               text  \\\n0           tech  tv future in the hands of viewers with home th...   \n1       business  worldcom boss  left books alone  former worldc...   \n2          sport  tigers wary of farrell  gamble  leicester say ...   \n3          sport  yeading face newcastle in fa cup premiership s...   \n4  entertainment  ocean s twelve raids box office ocean s twelve...   \n5       politics  howard hits back at mongrel jibe michael howar...   \n6       politics  blair prepares to name poll date tony blair is...   \n7          sport  henman hopes ended in dubai third seed tim hen...   \n8          sport  wilkinson fit to face edinburgh england captai...   \n9  entertainment  last star wars  not for children  the sixth an...   \n\n   word_count  target  \n0         806       4  \n1         332       0  \n2         270       3  \n3         390       3  \n4         287       1  \n5         701       2  \n6         284       2  \n7         202       3  \n8         163       3  \n9         253       1  ",
      "text/html": "<div>\n<style scoped>\n    .dataframe tbody tr th:only-of-type {\n        vertical-align: middle;\n    }\n\n    .dataframe tbody tr th {\n        vertical-align: top;\n    }\n\n    .dataframe thead th {\n        text-align: right;\n    }\n</style>\n<table border=\"1\" class=\"dataframe\">\n  <thead>\n    <tr style=\"text-align: right;\">\n      <th></th>\n      <th>category</th>\n      <th>text</th>\n      <th>word_count</th>\n      <th>target</th>\n    </tr>\n  </thead>\n  <tbody>\n    <tr>\n      <th>0</th>\n      <td>tech</td>\n      <td>tv future in the hands of viewers with home th...</td>\n      <td>806</td>\n      <td>4</td>\n    </tr>\n    <tr>\n      <th>1</th>\n      <td>business</td>\n      <td>worldcom boss  left books alone  former worldc...</td>\n      <td>332</td>\n      <td>0</td>\n    </tr>\n    <tr>\n      <th>2</th>\n      <td>sport</td>\n      <td>tigers wary of farrell  gamble  leicester say ...</td>\n      <td>270</td>\n      <td>3</td>\n    </tr>\n    <tr>\n      <th>3</th>\n      <td>sport</td>\n      <td>yeading face newcastle in fa cup premiership s...</td>\n      <td>390</td>\n      <td>3</td>\n    </tr>\n    <tr>\n      <th>4</th>\n      <td>entertainment</td>\n      <td>ocean s twelve raids box office ocean s twelve...</td>\n      <td>287</td>\n      <td>1</td>\n    </tr>\n    <tr>\n      <th>5</th>\n      <td>politics</td>\n      <td>howard hits back at mongrel jibe michael howar...</td>\n      <td>701</td>\n      <td>2</td>\n    </tr>\n    <tr>\n      <th>6</th>\n      <td>politics</td>\n      <td>blair prepares to name poll date tony blair is...</td>\n      <td>284</td>\n      <td>2</td>\n    </tr>\n    <tr>\n      <th>7</th>\n      <td>sport</td>\n      <td>henman hopes ended in dubai third seed tim hen...</td>\n      <td>202</td>\n      <td>3</td>\n    </tr>\n    <tr>\n      <th>8</th>\n      <td>sport</td>\n      <td>wilkinson fit to face edinburgh england captai...</td>\n      <td>163</td>\n      <td>3</td>\n    </tr>\n    <tr>\n      <th>9</th>\n      <td>entertainment</td>\n      <td>last star wars  not for children  the sixth an...</td>\n      <td>253</td>\n      <td>1</td>\n    </tr>\n  </tbody>\n</table>\n</div>"
     },
     "execution_count": 9,
     "metadata": {},
     "output_type": "execute_result"
    }
   ],
   "source": [
    "dataset.head(10)"
   ],
   "metadata": {
    "collapsed": false,
    "ExecuteTime": {
     "end_time": "2024-01-30T10:11:48.608436300Z",
     "start_time": "2024-01-30T10:11:48.504651300Z"
    }
   },
   "id": "b738afa36a191885",
   "execution_count": 9
  },
  {
   "cell_type": "code",
   "outputs": [],
   "source": [
    "X = dataset.text.to_list()\n",
    "y = dataset.target.to_list()"
   ],
   "metadata": {
    "collapsed": false,
    "ExecuteTime": {
     "end_time": "2024-01-30T10:11:48.637438800Z",
     "start_time": "2024-01-30T10:11:48.518381300Z"
    }
   },
   "id": "539e3abec5bbe293",
   "execution_count": 10
  },
  {
   "cell_type": "code",
   "outputs": [],
   "source": [
    "# Splitting the dataset into train, test and validation sets\n",
    "X_train, X_val, y_train, y_val = train_test_split(X, y, test_size=0.2, random_state=42)\n",
    "X_train, X_test, y_train, y_test = train_test_split(X_train, y_train, test_size=0.01, random_state=42)"
   ],
   "metadata": {
    "collapsed": false,
    "ExecuteTime": {
     "end_time": "2024-01-30T10:11:48.674435800Z",
     "start_time": "2024-01-30T10:11:48.528306200Z"
    }
   },
   "id": "b9a31cf3358bd672",
   "execution_count": 11
  },
  {
   "cell_type": "markdown",
   "source": [
    "## Model definition"
   ],
   "metadata": {
    "collapsed": false
   },
   "id": "5cb01cd9c4bec2b0"
  },
  {
   "cell_type": "markdown",
   "source": [
    "Model link: https://huggingface.co/distilbert-base-uncased"
   ],
   "metadata": {
    "collapsed": false
   },
   "id": "ff00b8c91f87ae57"
  },
  {
   "cell_type": "code",
   "outputs": [],
   "source": [
    "# Loading the tokenizer\n",
    "tokenizer = DistilBertTokenizer.from_pretrained('distilbert-base-uncased')"
   ],
   "metadata": {
    "collapsed": false,
    "ExecuteTime": {
     "end_time": "2024-01-30T10:11:49.238800500Z",
     "start_time": "2024-01-30T10:11:48.554438900Z"
    }
   },
   "id": "4f9e77c28bcaf3e3",
   "execution_count": 12
  },
  {
   "cell_type": "code",
   "outputs": [],
   "source": [
    "# Encoding the training and validation set\n",
    "train_encodings = tokenizer(X_train, truncation=True, padding=True) #TruncationStrategy is the opposite of padding\n",
    "val_encodings = tokenizer(X_val, truncation=True, padding=True)"
   ],
   "metadata": {
    "collapsed": false,
    "ExecuteTime": {
     "end_time": "2024-01-30T10:12:05.249745300Z",
     "start_time": "2024-01-30T10:11:49.201802900Z"
    }
   },
   "id": "96d37a7b4a9ac5",
   "execution_count": 13
  },
  {
   "cell_type": "code",
   "outputs": [],
   "source": [
    "# Creating torch dataset\n",
    "class Dataset(torch.utils.data.Dataset):\n",
    "    def __init__(self, encodings, labels):\n",
    "        self.encodings = encodings\n",
    "        self.labels = labels\n",
    "    def __getitem__(self, idx):\n",
    "        item = {key: torch.tensor(val[idx]) for key, val in self.encodings.items()}\n",
    "        item['labels'] = torch.tensor(self.labels[idx])\n",
    "        return item\n",
    "    def __len__(self):\n",
    "        return len(self.labels)"
   ],
   "metadata": {
    "collapsed": false,
    "ExecuteTime": {
     "end_time": "2024-01-30T10:12:05.254347900Z",
     "start_time": "2024-01-30T10:12:05.250745300Z"
    }
   },
   "id": "397cd2a1d07ecff2",
   "execution_count": 14
  },
  {
   "cell_type": "code",
   "outputs": [],
   "source": [
    "train_dataset = Dataset(train_encodings, y_train)\n",
    "val_dataset = Dataset(val_encodings, y_val)"
   ],
   "metadata": {
    "collapsed": false,
    "ExecuteTime": {
     "end_time": "2024-01-30T10:12:05.272314400Z",
     "start_time": "2024-01-30T10:12:05.255350900Z"
    }
   },
   "id": "df9e85471a9e26bf",
   "execution_count": 15
  },
  {
   "cell_type": "markdown",
   "source": [
    "## Fine-tuning the model"
   ],
   "metadata": {
    "collapsed": false
   },
   "id": "f3c64c753ef5e721"
  },
  {
   "cell_type": "code",
   "outputs": [
    {
     "data": {
      "text/plain": "Downloading model.safetensors:   0%|          | 0.00/268M [00:00<?, ?B/s]",
      "application/vnd.jupyter.widget-view+json": {
       "version_major": 2,
       "version_minor": 0,
       "model_id": "0d038448d4134d679cf2084ed71afe85"
      }
     },
     "metadata": {},
     "output_type": "display_data"
    },
    {
     "name": "stderr",
     "output_type": "stream",
     "text": [
      "Some weights of DistilBertForSequenceClassification were not initialized from the model checkpoint at distilbert-base-uncased and are newly initialized: ['pre_classifier.weight', 'pre_classifier.bias', 'classifier.bias', 'classifier.weight']\n",
      "You should probably TRAIN this model on a down-stream task to be able to use it for predictions and inference.\n"
     ]
    }
   ],
   "source": [
    "from torch.nn.parallel import DistributedDataParallel\n",
    "from transformers import Trainer, TrainingArguments\n",
    "\n",
    "# Training pipeline\n",
    "training_args = TrainingArguments(\n",
    "    output_dir='./results',          # output directory\n",
    "    num_train_epochs=8,             # total number of training epochs\n",
    "    per_device_train_batch_size=16,  # batch size per device during training\n",
    "    per_device_eval_batch_size=64,   # batch size for evaluation\n",
    "    warmup_steps=500,                # number of warmup steps for learning rate scheduler\n",
    "    weight_decay=0.01,               # strength of weight decay\n",
    "    logging_dir='./logs',            # directory for storing logs\n",
    "    logging_steps=10,\n",
    "    eval_steps=100\n",
    ")\n",
    "\n",
    "model = DistilBertForSequenceClassification.from_pretrained(\"distilbert-base-uncased\", num_labels=5)\n",
    "\n",
    "# Initialize PyTorch DistributedDataParallel if multiple GPUs are available\n",
    "if torch.cuda.device_count() > 1:\n",
    "    model = DistributedDataParallel(model)\n",
    "        \n",
    "trainer = Trainer(\n",
    "    model=model,                         # the instantiated 🤗 Transformers model to be trained\n",
    "    args=training_args,                  # training arguments, defined above\n",
    "    train_dataset=train_dataset,         # training dataset\n",
    "    eval_dataset=val_dataset             # evaluation dataset\n",
    ")"
   ],
   "metadata": {
    "collapsed": false,
    "ExecuteTime": {
     "end_time": "2024-01-29T15:41:11.471733400Z",
     "start_time": "2024-01-29T15:40:25.145515700Z"
    }
   },
   "id": "be705b0c70856fe8",
   "execution_count": 16
  },
  {
   "cell_type": "code",
   "outputs": [
    {
     "data": {
      "text/plain": "<IPython.core.display.HTML object>",
      "text/html": "\n    <div>\n      \n      <progress value='2' max='888' style='width:300px; height:20px; vertical-align: middle;'></progress>\n      [  2/888 : < :, Epoch 0.01/8]\n    </div>\n    <table border=\"1\" class=\"dataframe\">\n  <thead>\n <tr style=\"text-align: left;\">\n      <th>Step</th>\n      <th>Training Loss</th>\n    </tr>\n  </thead>\n  <tbody>\n  </tbody>\n</table><p>"
     },
     "metadata": {},
     "output_type": "display_data"
    },
    {
     "data": {
      "text/plain": "TrainOutput(global_step=888, training_loss=0.22761848523818493, metrics={'train_runtime': 14933.1381, 'train_samples_per_second': 0.944, 'train_steps_per_second': 0.059, 'total_flos': 1867360351272960.0, 'train_loss': 0.22761848523818493, 'epoch': 8.0})"
     },
     "execution_count": 17,
     "metadata": {},
     "output_type": "execute_result"
    }
   ],
   "source": [
    "trainer.train()"
   ],
   "metadata": {
    "collapsed": false,
    "ExecuteTime": {
     "end_time": "2024-01-29T19:50:23.091245900Z",
     "start_time": "2024-01-29T15:41:28.651779800Z"
    }
   },
   "id": "3b21e10074f190fa",
   "execution_count": 17
  },
  {
   "cell_type": "code",
   "outputs": [
    {
     "data": {
      "text/plain": "<IPython.core.display.HTML object>",
      "text/html": "\n    <div>\n      \n      <progress value='1' max='7' style='width:300px; height:20px; vertical-align: middle;'></progress>\n      [1/7 : < :]\n    </div>\n    "
     },
     "metadata": {},
     "output_type": "display_data"
    },
    {
     "data": {
      "text/plain": "{'eval_loss': 0.09472580999135971,\n 'eval_runtime': 162.0501,\n 'eval_samples_per_second': 2.746,\n 'eval_steps_per_second': 0.043,\n 'epoch': 8.0}"
     },
     "execution_count": 18,
     "metadata": {},
     "output_type": "execute_result"
    }
   ],
   "source": [
    "trainer.evaluate()"
   ],
   "metadata": {
    "collapsed": false,
    "ExecuteTime": {
     "end_time": "2024-01-29T19:53:05.363071300Z",
     "start_time": "2024-01-29T19:50:23.157248100Z"
    }
   },
   "id": "28037fe6aedc3c79",
   "execution_count": 18
  },
  {
   "cell_type": "code",
   "outputs": [
    {
     "data": {
      "text/plain": "{'eval_loss': 0.0007290563080459833,\n 'eval_runtime': 6.487,\n 'eval_samples_per_second': 2.775,\n 'eval_steps_per_second': 0.154,\n 'epoch': 8.0}"
     },
     "execution_count": 52,
     "metadata": {},
     "output_type": "execute_result"
    }
   ],
   "source": [
    "# Show accuracy on test set\n",
    "test_encodings = tokenizer(X_test, truncation=True, padding=True)\n",
    "test_dataset = Dataset(test_encodings, y_test)\n",
    "trainer.evaluate(test_dataset)"
   ],
   "metadata": {
    "collapsed": false,
    "ExecuteTime": {
     "end_time": "2024-01-29T20:07:58.954009100Z",
     "start_time": "2024-01-29T20:07:52.334992800Z"
    }
   },
   "id": "ecbd4981dcc2f237",
   "execution_count": 52
  },
  {
   "cell_type": "code",
   "outputs": [
    {
     "name": "stdout",
     "output_type": "stream",
     "text": [
      "Accuracy on the test set: 100.00%\n"
     ]
    }
   ],
   "source": [
    "from sklearn.metrics import accuracy_score\n",
    "\n",
    "predictions = trainer.predict(test_dataset)\n",
    "predicted_labels = predictions.predictions.argmax(axis=1)\n",
    "true_labels = y_test\n",
    "\n",
    "# Calculate accuracy\n",
    "accuracy = accuracy_score(true_labels, predicted_labels)\n",
    "print(f\"Accuracy on the test set: {accuracy * 100:.2f}%\")\n"
   ],
   "metadata": {
    "collapsed": false,
    "ExecuteTime": {
     "end_time": "2024-01-29T20:10:38.073625900Z",
     "start_time": "2024-01-29T20:10:31.750734Z"
    }
   },
   "id": "8bbe57b2d68414ce",
   "execution_count": 53
  },
  {
   "cell_type": "markdown",
   "source": [
    "is it overfitting?"
   ],
   "metadata": {
    "collapsed": false
   },
   "id": "fe57c08a3701b6a2"
  },
  {
   "cell_type": "markdown",
   "source": [
    "## Save and Load the model"
   ],
   "metadata": {
    "collapsed": false
   },
   "id": "cc21e45bf921d306"
  },
  {
   "cell_type": "code",
   "outputs": [
    {
     "data": {
      "text/plain": "('models/distilbert-base-uncased\\\\tokenizer_config.json',\n 'models/distilbert-base-uncased\\\\special_tokens_map.json',\n 'models/distilbert-base-uncased\\\\vocab.txt',\n 'models/distilbert-base-uncased\\\\added_tokens.json')"
     },
     "execution_count": 19,
     "metadata": {},
     "output_type": "execute_result"
    }
   ],
   "source": [
    "# Saving the model\n",
    "model_path = 'models/distilbert-base-uncased'\n",
    "model.save_pretrained(model_path)\n",
    "tokenizer.save_pretrained(model_path)"
   ],
   "metadata": {
    "collapsed": false,
    "ExecuteTime": {
     "end_time": "2024-01-29T19:53:05.718058100Z",
     "start_time": "2024-01-29T19:53:05.368071300Z"
    }
   },
   "id": "16e0fb992b7dfd13",
   "execution_count": 19
  },
  {
   "cell_type": "code",
   "outputs": [],
   "source": [
    "# Loading the model\n",
    "model = DistilBertForSequenceClassification.from_pretrained(model_path)\n",
    "tokenizer = DistilBertTokenizer.from_pretrained(model_path)"
   ],
   "metadata": {
    "collapsed": false,
    "ExecuteTime": {
     "end_time": "2024-01-29T19:56:38.743018200Z",
     "start_time": "2024-01-29T19:56:37.776242900Z"
    }
   },
   "id": "443fed3240884a4d",
   "execution_count": 20
  },
  {
   "cell_type": "code",
   "outputs": [
    {
     "name": "stdout",
     "output_type": "stream",
     "text": [
      "south africa sweep top awards south africa s schalk burger was named player of the year as the tri-nations champions swept the top honours at the international rugby board s awards.  the flanker topped a list which included ireland star gordon d arcy and australian sensation matt giteau. jake white claimed the coaching award while his side held off grand slam winners france to take the team award. england player simon amor beat team-mate ben gollings and argentine lucio lopez fleming to win the sevens award. burger s award came just a week after he won the equivalent prize from his fellow international players and white  who also coached burger at under-21 level  paid tribute to him.  schalk s emergence as a major force has meant a lot to south african rugby  but has also influenced world rugby   said white.  he s become to south african rugby what jonty rhodes was to south african cricket. it s amazing what he has achieved in such a short time so far in his international career.  amor  who will captain england in this season s opening irb sevens tournament  the dubai sevens  which start on thursday  was delighted with his award.  there are so many great sevens players on the circuit at the moment that this is a genuine honour   said the gloucester fly-half.\n"
     ]
    }
   ],
   "source": [
    "sample_text = X_test[1]\n",
    "print(sample_text)"
   ],
   "metadata": {
    "collapsed": false,
    "ExecuteTime": {
     "end_time": "2024-01-29T20:02:25.536843800Z",
     "start_time": "2024-01-29T20:02:25.521332Z"
    }
   },
   "id": "46562746a4346ffb",
   "execution_count": 35
  },
  {
   "cell_type": "code",
   "outputs": [
    {
     "data": {
      "text/plain": "SequenceClassifierOutput(loss=None, logits=tensor([[-2.0519, -2.2036, -2.1504,  6.8715, -2.2921]],\n       grad_fn=<AddmmBackward0>), hidden_states=None, attentions=None)"
     },
     "execution_count": 36,
     "metadata": {},
     "output_type": "execute_result"
    }
   ],
   "source": [
    "encoded_input = tokenizer(sample_text, truncation=True, padding=True, return_tensors='pt' # pt for pytorch and tf for tensorflow\n",
    ")\n",
    "output = model(**encoded_input)\n",
    "output"
   ],
   "metadata": {
    "collapsed": false,
    "ExecuteTime": {
     "end_time": "2024-01-29T20:02:29.147857900Z",
     "start_time": "2024-01-29T20:02:28.943082900Z"
    }
   },
   "id": "aeb6651ea17f1490",
   "execution_count": 36
  },
  {
   "cell_type": "code",
   "outputs": [
    {
     "data": {
      "text/plain": "3"
     },
     "execution_count": 44,
     "metadata": {},
     "output_type": "execute_result"
    }
   ],
   "source": [
    "torch.argmax(output[0].detach()).item()"
   ],
   "metadata": {
    "collapsed": false,
    "ExecuteTime": {
     "end_time": "2024-01-29T20:03:45.662458100Z",
     "start_time": "2024-01-29T20:03:45.648664300Z"
    }
   },
   "id": "5d17c2011960f68d",
   "execution_count": 44
  },
  {
   "cell_type": "code",
   "outputs": [],
   "source": [
    "def predict(text) -> int:\n",
    "    encoded_input = tokenizer(text, truncation=True, padding=True, return_tensors='pt' # pt for pytorch and tf for tensorflow\n",
    "    )\n",
    "    output = model(**encoded_input)\n",
    "    return torch.argmax(output[0].detach()).item()"
   ],
   "metadata": {
    "collapsed": false,
    "ExecuteTime": {
     "end_time": "2024-01-29T20:03:56.547477900Z",
     "start_time": "2024-01-29T20:03:56.516958800Z"
    }
   },
   "id": "76ee02f046813825",
   "execution_count": 45
  },
  {
   "cell_type": "markdown",
   "source": [
    "## Full pytorch pipeline"
   ],
   "metadata": {
    "collapsed": false
   },
   "id": "12835b7c3127df96"
  },
  {
   "cell_type": "code",
   "outputs": [],
   "source": [
    "model_path = 'models/distilbert-base-uncased'\n",
    "\n",
    "# Loading the model\n",
    "model = DistilBertForSequenceClassification.from_pretrained(model_path)\n",
    "tokenizer = DistilBertTokenizer.from_pretrained(model_path)\n",
    "\n",
    "def predict(text) -> int:\n",
    "    encoded_input = tokenizer(text, truncation=True, padding=True, return_tensors='pt' # pt for pytorch and tf for tensorflow\n",
    "    )\n",
    "    output = model(**encoded_input)\n",
    "    return torch.argmax(output[0].detach()).item()"
   ],
   "metadata": {
    "collapsed": false,
    "ExecuteTime": {
     "end_time": "2024-01-29T20:05:51.563941800Z",
     "start_time": "2024-01-29T20:05:50.719277100Z"
    }
   },
   "id": "25213bafd987111e",
   "execution_count": 46
  },
  {
   "cell_type": "code",
   "outputs": [
    {
     "data": {
      "text/plain": "'sport'"
     },
     "execution_count": 68,
     "metadata": {},
     "output_type": "execute_result"
    }
   ],
   "source": [
    "mapper[predict(X_test[3])]"
   ],
   "metadata": {
    "collapsed": false,
    "ExecuteTime": {
     "end_time": "2024-01-30T09:05:25.653313Z",
     "start_time": "2024-01-30T09:05:25.152453900Z"
    }
   },
   "id": "18cb6e10bde0145d",
   "execution_count": 68
  },
  {
   "cell_type": "code",
   "outputs": [
    {
     "data": {
      "text/plain": "'sport'"
     },
     "execution_count": 69,
     "metadata": {},
     "output_type": "execute_result"
    }
   ],
   "source": [
    "mapper[predict(\"corruption in fifa\")]"
   ],
   "metadata": {
    "collapsed": false,
    "ExecuteTime": {
     "end_time": "2024-01-30T09:05:36.798852300Z",
     "start_time": "2024-01-30T09:05:36.745197Z"
    }
   },
   "id": "5fd5958c1aa1e169",
   "execution_count": 69
  },
  {
   "cell_type": "markdown",
   "source": [
    "## Optimizing the model (Training without using Trainer class from transformers)"
   ],
   "metadata": {
    "collapsed": false
   },
   "id": "9f8cee2f02ef6ee0"
  },
  {
   "cell_type": "code",
   "outputs": [
    {
     "name": "stderr",
     "output_type": "stream",
     "text": [
      "Some weights of DistilBertForSequenceClassification were not initialized from the model checkpoint at distilbert-base-uncased and are newly initialized: ['classifier.bias', 'classifier.weight', 'pre_classifier.bias', 'pre_classifier.weight']\n",
      "You should probably TRAIN this model on a down-stream task to be able to use it for predictions and inference.\n"
     ]
    }
   ],
   "source": [
    "model = DistilBertForSequenceClassification.from_pretrained(\"distilbert-base-uncased\", num_labels=5)\n",
    "tokenizer = DistilBertTokenizer.from_pretrained('distilbert-base-uncased')"
   ],
   "metadata": {
    "collapsed": false,
    "ExecuteTime": {
     "end_time": "2024-01-30T10:14:57.222031200Z",
     "start_time": "2024-01-30T10:14:52.688177Z"
    }
   },
   "id": "d760674d473e8628",
   "execution_count": 25
  },
  {
   "cell_type": "code",
   "outputs": [],
   "source": [
    "from torch.utils.data import DataLoader, RandomSampler, SequentialSampler\n",
    "\n",
    "# The DataLoader needs to know our batch size for training, so we specify it \n",
    "# here. For fine-tuning BERT on a specific task, the authors recommend a batch \n",
    "# size of 16 or 32.\n",
    "batch_size = 4 # I have weak gpu\n",
    "\n",
    "# Create the DataLoaders for our training and validation sets.\n",
    "# We'll take training samples in random order. \n",
    "train_dataloader = DataLoader(\n",
    "            train_dataset,  # The training samples.\n",
    "            sampler = RandomSampler(train_dataset), # Select batches randomly\n",
    "            batch_size = batch_size # Trains with this batch size.\n",
    "        )\n",
    "\n",
    "# For validation the order doesn't matter, so we'll just read them sequentially.\n",
    "validation_dataloader = DataLoader(\n",
    "            val_dataset, # The validation samples.\n",
    "            sampler = SequentialSampler(val_dataset), # Pull out batches sequentially.\n",
    "            batch_size = batch_size # Evaluate with this batch size.\n",
    "        )"
   ],
   "metadata": {
    "collapsed": false,
    "ExecuteTime": {
     "end_time": "2024-01-30T10:20:15.620890200Z",
     "start_time": "2024-01-30T10:20:15.577811600Z"
    }
   },
   "id": "ebc29cc39b8dadfe",
   "execution_count": 49
  },
  {
   "cell_type": "code",
   "outputs": [],
   "source": [
    "# Creating the optimizer\n",
    "optimizer = torch.optim.Adam(model.parameters(), lr=5e-5, eps=1e-8)"
   ],
   "metadata": {
    "collapsed": false,
    "ExecuteTime": {
     "end_time": "2024-01-30T10:20:15.917201200Z",
     "start_time": "2024-01-30T10:20:15.882381800Z"
    }
   },
   "id": "97587ec5e19cb53b",
   "execution_count": 50
  },
  {
   "cell_type": "code",
   "outputs": [],
   "source": [
    "# Creating the learning rate scheduler\n",
    "from transformers import get_linear_schedule_with_warmup\n",
    "\n",
    "epochs = 4 # Total number of training epochs, values more than 4 may lead to overfitting\n",
    "total_steps = len(train_dataset) * epochs # Total number of training steps\n",
    "\n",
    "scheduler = get_linear_schedule_with_warmup(optimizer, \n",
    "                                            num_warmup_steps=0, # Number of warmup steps\n",
    "                                            num_training_steps=total_steps)"
   ],
   "metadata": {
    "collapsed": false,
    "ExecuteTime": {
     "end_time": "2024-01-30T10:20:16.225554Z",
     "start_time": "2024-01-30T10:20:16.182917Z"
    }
   },
   "id": "9adfcb69320e0818",
   "execution_count": 51
  },
  {
   "cell_type": "code",
   "outputs": [
    {
     "data": {
      "text/plain": "[DistilBertModel(\n   (embeddings): Embeddings(\n     (word_embeddings): Embedding(30522, 768, padding_idx=0)\n     (position_embeddings): Embedding(512, 768)\n     (LayerNorm): LayerNorm((768,), eps=1e-12, elementwise_affine=True)\n     (dropout): Dropout(p=0.1, inplace=False)\n   )\n   (transformer): Transformer(\n     (layer): ModuleList(\n       (0-5): 6 x TransformerBlock(\n         (attention): MultiHeadSelfAttention(\n           (dropout): Dropout(p=0.1, inplace=False)\n           (q_lin): Linear(in_features=768, out_features=768, bias=True)\n           (k_lin): Linear(in_features=768, out_features=768, bias=True)\n           (v_lin): Linear(in_features=768, out_features=768, bias=True)\n           (out_lin): Linear(in_features=768, out_features=768, bias=True)\n         )\n         (sa_layer_norm): LayerNorm((768,), eps=1e-12, elementwise_affine=True)\n         (ffn): FFN(\n           (dropout): Dropout(p=0.1, inplace=False)\n           (lin1): Linear(in_features=768, out_features=3072, bias=True)\n           (lin2): Linear(in_features=3072, out_features=768, bias=True)\n           (activation): GELUActivation()\n         )\n         (output_layer_norm): LayerNorm((768,), eps=1e-12, elementwise_affine=True)\n       )\n     )\n   )\n ),\n Linear(in_features=768, out_features=768, bias=True),\n Linear(in_features=768, out_features=5, bias=True),\n Dropout(p=0.2, inplace=False)]"
     },
     "execution_count": 52,
     "metadata": {},
     "output_type": "execute_result"
    }
   ],
   "source": [
    "# Structure of the model\n",
    "list(model.children())"
   ],
   "metadata": {
    "collapsed": false,
    "ExecuteTime": {
     "end_time": "2024-01-30T10:20:16.490572200Z",
     "start_time": "2024-01-30T10:20:16.479545300Z"
    }
   },
   "id": "d2813c3928540e29",
   "execution_count": 52
  },
  {
   "cell_type": "code",
   "outputs": [],
   "source": [
    "def flat_accuracy(logits, label_ids):\n",
    "    # Function to calculate the accuracy of our predictions vs labels\n",
    "    # logits: the model predictions\n",
    "    # label_ids: the actual labels\n",
    "    # Returns the accuracy of our predictions vs labels as a float\n",
    "    \n",
    "    # Take the maximum value from the logits as our predicted label\n",
    "    pred_flat = np.argmax(logits, axis=1).flatten()\n",
    "    \n",
    "    # Take the labels from the label_ids and flatten them\n",
    "    labels_flat = label_ids.flatten()\n",
    "    \n",
    "    # Calculate the number of correctly classified examples\n",
    "    return np.sum(pred_flat == labels_flat) / len(labels_flat)"
   ],
   "metadata": {
    "collapsed": false,
    "ExecuteTime": {
     "end_time": "2024-01-30T10:20:17.144101800Z",
     "start_time": "2024-01-30T10:20:17.124937100Z"
    }
   },
   "id": "1d6e8a69f4b7a600",
   "execution_count": 53
  },
  {
   "cell_type": "code",
   "outputs": [
    {
     "name": "stdout",
     "output_type": "stream",
     "text": [
      "\n",
      "======== Epoch 1 / 4 ========\n",
      "Training...\n",
      "  Batch    40  of    441.    Elapsed: 16.654215097427368.\n",
      "  Batch    80  of    441.    Elapsed: 32.97686719894409.\n",
      "  Batch   120  of    441.    Elapsed: 49.349823236465454.\n",
      "  Batch   160  of    441.    Elapsed: 65.72876405715942.\n",
      "  Batch   200  of    441.    Elapsed: 82.08373761177063.\n",
      "  Batch   240  of    441.    Elapsed: 98.45009088516235.\n",
      "  Batch   280  of    441.    Elapsed: 115.12406635284424.\n",
      "  Batch   320  of    441.    Elapsed: 131.47401309013367.\n",
      "  Batch   360  of    441.    Elapsed: 147.7953896522522.\n",
      "  Batch   400  of    441.    Elapsed: 164.10895609855652.\n",
      "  Batch   440  of    441.    Elapsed: 180.4179584980011.\n",
      "\n",
      "  Average training loss: 0.24\n",
      "  Training epoch took: 180.72695589065552\n",
      "\n",
      "Running Validation...\n",
      "  Accuracy: 0.98\n",
      "  Validation Loss: 0.10\n",
      "  Validation took: 18.819260835647583\n",
      "\n",
      "======== Epoch 2 / 4 ========\n",
      "Training...\n",
      "  Batch    40  of    441.    Elapsed: 16.10506772994995.\n",
      "  Batch    80  of    441.    Elapsed: 32.414127588272095.\n",
      "  Batch   120  of    441.    Elapsed: 48.75305533409119.\n",
      "  Batch   160  of    441.    Elapsed: 65.07506203651428.\n",
      "  Batch   200  of    441.    Elapsed: 81.4061050415039.\n",
      "  Batch   240  of    441.    Elapsed: 97.74124073982239.\n",
      "  Batch   280  of    441.    Elapsed: 114.11573576927185.\n",
      "  Batch   320  of    441.    Elapsed: 130.44406032562256.\n",
      "  Batch   360  of    441.    Elapsed: 146.7711889743805.\n",
      "  Batch   400  of    441.    Elapsed: 163.09699320793152.\n",
      "  Batch   440  of    441.    Elapsed: 179.43110060691833.\n",
      "\n",
      "  Average training loss: 0.10\n",
      "  Training epoch took: 179.74313044548035\n",
      "\n",
      "Running Validation...\n",
      "  Accuracy: 0.98\n",
      "  Validation Loss: 0.09\n",
      "  Validation took: 18.878859281539917\n",
      "\n",
      "======== Epoch 3 / 4 ========\n",
      "Training...\n",
      "  Batch    40  of    441.    Elapsed: 16.110066175460815.\n",
      "  Batch    80  of    441.    Elapsed: 32.426636934280396.\n",
      "  Batch   120  of    441.    Elapsed: 48.75027370452881.\n",
      "  Batch   160  of    441.    Elapsed: 65.06546401977539.\n",
      "  Batch   200  of    441.    Elapsed: 81.4364025592804.\n",
      "  Batch   240  of    441.    Elapsed: 97.78840947151184.\n",
      "  Batch   280  of    441.    Elapsed: 114.12038135528564.\n",
      "  Batch   320  of    441.    Elapsed: 130.4414303302765.\n",
      "  Batch   360  of    441.    Elapsed: 146.77597832679749.\n",
      "  Batch   400  of    441.    Elapsed: 163.14801573753357.\n",
      "  Batch   440  of    441.    Elapsed: 179.5123016834259.\n",
      "\n",
      "  Average training loss: 0.06\n",
      "  Training epoch took: 179.8238124847412\n",
      "\n",
      "Running Validation...\n",
      "  Accuracy: 0.98\n",
      "  Validation Loss: 0.10\n",
      "  Validation took: 18.83410406112671\n",
      "\n",
      "======== Epoch 4 / 4 ========\n",
      "Training...\n",
      "  Batch    40  of    441.    Elapsed: 16.139973163604736.\n",
      "  Batch    80  of    441.    Elapsed: 32.47729992866516.\n",
      "  Batch   120  of    441.    Elapsed: 48.86131930351257.\n",
      "  Batch   160  of    441.    Elapsed: 65.24055886268616.\n",
      "  Batch   200  of    441.    Elapsed: 81.60033655166626.\n",
      "  Batch   240  of    441.    Elapsed: 97.96412467956543.\n",
      "  Batch   280  of    441.    Elapsed: 114.32931613922119.\n",
      "  Batch   320  of    441.    Elapsed: 130.68413424491882.\n",
      "  Batch   360  of    441.    Elapsed: 147.0222611427307.\n",
      "  Batch   400  of    441.    Elapsed: 163.37707471847534.\n",
      "  Batch   440  of    441.    Elapsed: 179.7391653060913.\n",
      "\n",
      "  Average training loss: 0.02\n",
      "  Training epoch took: 180.05200910568237\n",
      "\n",
      "Running Validation...\n",
      "  Accuracy: 0.98\n",
      "  Validation Loss: 0.18\n",
      "  Validation took: 18.89454412460327\n",
      "\n",
      "Training complete!\n"
     ]
    }
   ],
   "source": [
    "from babel.dates import format_time\n",
    "import time\n",
    "\n",
    "model.cuda() # Moving the model to GPU for faster training\n",
    "loss_values = [] # Store the training loss values for plotting the learning curve\n",
    "# We'll store a number of quantities such as training and validation loss, \n",
    "# validation accuracy, and timings.\n",
    "training_stats = []\n",
    "\n",
    "\n",
    "for i in range(epochs):\n",
    "    print(\"\")\n",
    "    print('======== Epoch {:} / {:} ========'.format(i + 1, epochs))\n",
    "    print('Training...')\n",
    "    \n",
    "    time_0 = time.time()\n",
    "    \n",
    "    total_loss = 0 # Reset the total loss for this epoch\n",
    "    \n",
    "    model.train() # Set the model to training mode\n",
    "    \n",
    "    for step, batch in enumerate(train_dataloader):\n",
    "        \n",
    "        # Updating progress every 40 batches\n",
    "        if step % 40 == 0 and not step == 0:\n",
    "            # Calculate elapsed time in minutes (How much time has passed since we started training)\n",
    "            elapsed = time.time() - time_0\n",
    "            print('  Batch {:>5,}  of  {:>5,}.    Elapsed: {:}.'.format(step, len(train_dataloader), elapsed))\n",
    "        \n",
    "        # Unpack this training batch from our dataloader.\n",
    "        # As we unpack the batch, we'll also copy each tensor to the GPU using the\n",
    "        # `to` method.\n",
    "        \n",
    "        # `batch` contains three pytorch tensors:\n",
    "        #   [0]: input ids\n",
    "        #   [1]: attention masks\n",
    "        #   [2]: labels\n",
    "        b_input_ids = batch['input_ids'].to('cuda')\n",
    "        b_input_mask = batch['attention_mask'].to('cuda')\n",
    "        b_labels = batch['labels'].to('cuda')\n",
    "        \n",
    "        # Clear any previously calculated gradients before performing a backward pass\n",
    "        model.zero_grad()\n",
    "        \n",
    "        # Perform a forward pass (evaluate the model on this training batch)\n",
    "        outputs = model(b_input_ids, \n",
    "                        attention_mask=b_input_mask, \n",
    "                        labels=b_labels)\n",
    "        loss = outputs[0]\n",
    "        \n",
    "        total_loss += loss.item() # .item() method to extract a scalar value from a tensor containing a single value\n",
    "        \n",
    "        # Perform a backward pass to calculate the gradients\n",
    "        # It references back to all the computations that were performed in the forward pass and stored in computational graph and applies the chain rule to compute the gradients\n",
    "        loss.backward()\n",
    "        \n",
    "        # Clip the norm of the gradients to 1.0 to prevent \"exploding gradients\" (a common problem in NLP)\n",
    "        torch.nn.utils.clip_grad_norm_(model.parameters(), 1.0)\n",
    "        \n",
    "        optimizer.step() # Update parameters and take a step using the computed gradient\n",
    "        \n",
    "        scheduler.step() # Update the learning rate\n",
    "        \n",
    "    avg_train_loss = total_loss / len(train_dataloader) # Calculate the average loss over all of the batches\n",
    "    \n",
    "    loss_values.append(avg_train_loss) # Store the loss value for plotting the learning curve\n",
    "    \n",
    "    print(\"\")\n",
    "    print(\"  Average training loss: {0:.2f}\".format(avg_train_loss))\n",
    "    training_time = time.time() - time_0\n",
    "    print(\"  Training epoch took: {:}\".format(training_time))\n",
    "    \n",
    "    print(\"\")\n",
    "    print(\"Running Validation...\")\n",
    "    \n",
    "    time_0 = time.time()\n",
    "    model.eval() # Put the model in evaluation mode\n",
    "    \n",
    "    total_val_accuracy = 0\n",
    "    total_val_loss = 0\n",
    "    nb_val_steps = 0\n",
    "    \n",
    "    for batch in validation_dataloader:\n",
    "            \n",
    "            b_input_ids = batch['input_ids'].to('cuda')\n",
    "            b_input_mask = batch['attention_mask'].to('cuda')\n",
    "            b_labels = batch['labels'].to('cuda')\n",
    "            \n",
    "            # Tell pytorch not to bother with constructing the compute graph during the forward pass, since this is only needed for backprop (training)\n",
    "            with torch.no_grad(): # Save computing and memory resources \n",
    "                outputs = model(b_input_ids, \n",
    "                                attention_mask=b_input_mask, \n",
    "                                labels=b_labels)\n",
    "            \n",
    "            loss = outputs[0]\n",
    "            logits = outputs[1]\n",
    "            \n",
    "            total_val_loss += loss.item()\n",
    "            \n",
    "            # Move logits and labels to CPU\n",
    "            logits = logits.detach().cpu().numpy()\n",
    "            label_ids = b_labels.to('cpu').numpy()\n",
    "            \n",
    "            total_val_accuracy += flat_accuracy(logits, label_ids)\n",
    "    \n",
    "    avg_val_accuracy = total_val_accuracy / len(validation_dataloader)\n",
    "    \n",
    "    print(\"  Accuracy: {0:.2f}\".format(avg_val_accuracy))\n",
    "    \n",
    "    avg_val_loss = total_val_loss / len(validation_dataloader)\n",
    "    \n",
    "    validation_time = time.time() - time_0\n",
    "    \n",
    "    print(\"  Validation Loss: {0:.2f}\".format(avg_val_loss))\n",
    "    print(\"  Validation took: {:}\".format(validation_time))\n",
    "    # Record all statistics from this epoch.\n",
    "    training_stats.append(\n",
    "        {\n",
    "            'epoch': i + 1,\n",
    "            'Training Loss': avg_train_loss,\n",
    "            'Valid. Loss': avg_val_loss,\n",
    "            'Valid. Accur.': avg_val_accuracy,\n",
    "            'Training Time': training_time,\n",
    "            'Validation Time': validation_time\n",
    "        }\n",
    "    )\n",
    "\n",
    "print(\"\")\n",
    "print(\"Training complete!\")"
   ],
   "metadata": {
    "collapsed": false,
    "ExecuteTime": {
     "end_time": "2024-01-30T10:33:42.255532500Z",
     "start_time": "2024-01-30T10:20:26.474367400Z"
    }
   },
   "id": "3dd9e282b674e74a",
   "execution_count": 56
  },
  {
   "cell_type": "code",
   "outputs": [],
   "source": [
    "torch.cuda.empty_cache()"
   ],
   "metadata": {
    "collapsed": false,
    "ExecuteTime": {
     "end_time": "2024-01-30T10:20:24.284022Z",
     "start_time": "2024-01-30T10:20:24.279505500Z"
    }
   },
   "id": "c90130a014f7c203",
   "execution_count": 55
  },
  {
   "cell_type": "code",
   "outputs": [
    {
     "data": {
      "text/plain": "       Training Loss  Valid. Loss  Valid. Accur.  Training Time  \\\nepoch                                                             \n1           0.239178     0.096131       0.979911     180.726956   \n2           0.096785     0.091791       0.982143     179.743130   \n3           0.057451     0.100922       0.984375     179.823812   \n4           0.023027     0.180548       0.975446     180.052009   \n\n       Validation Time  \nepoch                   \n1            18.819261  \n2            18.878859  \n3            18.834104  \n4            18.894544  ",
      "text/html": "<div>\n<style scoped>\n    .dataframe tbody tr th:only-of-type {\n        vertical-align: middle;\n    }\n\n    .dataframe tbody tr th {\n        vertical-align: top;\n    }\n\n    .dataframe thead th {\n        text-align: right;\n    }\n</style>\n<table border=\"1\" class=\"dataframe\">\n  <thead>\n    <tr style=\"text-align: right;\">\n      <th></th>\n      <th>Training Loss</th>\n      <th>Valid. Loss</th>\n      <th>Valid. Accur.</th>\n      <th>Training Time</th>\n      <th>Validation Time</th>\n    </tr>\n    <tr>\n      <th>epoch</th>\n      <th></th>\n      <th></th>\n      <th></th>\n      <th></th>\n      <th></th>\n    </tr>\n  </thead>\n  <tbody>\n    <tr>\n      <th>1</th>\n      <td>0.239178</td>\n      <td>0.096131</td>\n      <td>0.979911</td>\n      <td>180.726956</td>\n      <td>18.819261</td>\n    </tr>\n    <tr>\n      <th>2</th>\n      <td>0.096785</td>\n      <td>0.091791</td>\n      <td>0.982143</td>\n      <td>179.743130</td>\n      <td>18.878859</td>\n    </tr>\n    <tr>\n      <th>3</th>\n      <td>0.057451</td>\n      <td>0.100922</td>\n      <td>0.984375</td>\n      <td>179.823812</td>\n      <td>18.834104</td>\n    </tr>\n    <tr>\n      <th>4</th>\n      <td>0.023027</td>\n      <td>0.180548</td>\n      <td>0.975446</td>\n      <td>180.052009</td>\n      <td>18.894544</td>\n    </tr>\n  </tbody>\n</table>\n</div>"
     },
     "execution_count": 61,
     "metadata": {},
     "output_type": "execute_result"
    }
   ],
   "source": [
    "# Create a DataFrame from our training statistics.\n",
    "df_stats = pd.DataFrame(training_stats)\n",
    "\n",
    "# Use the 'epoch' as the row index.\n",
    "df_stats = df_stats.set_index('epoch')\n",
    "\n",
    "df_stats"
   ],
   "metadata": {
    "collapsed": false,
    "ExecuteTime": {
     "end_time": "2024-01-30T10:38:59.235731Z",
     "start_time": "2024-01-30T10:38:59.188577500Z"
    }
   },
   "id": "113c6079356afd58",
   "execution_count": 61
  },
  {
   "cell_type": "code",
   "outputs": [
    {
     "data": {
      "text/plain": "('models/distilbert-base-uncased_1706611142.2826495\\\\tokenizer_config.json',\n 'models/distilbert-base-uncased_1706611142.2826495\\\\special_tokens_map.json',\n 'models/distilbert-base-uncased_1706611142.2826495\\\\vocab.txt',\n 'models/distilbert-base-uncased_1706611142.2826495\\\\added_tokens.json')"
     },
     "execution_count": 62,
     "metadata": {},
     "output_type": "execute_result"
    }
   ],
   "source": [
    "# Saving the model\n",
    "model_path = 'models/distilbert-base-uncased_' + str(time.time())\n",
    "model.save_pretrained(model_path)\n",
    "tokenizer.save_pretrained(model_path)"
   ],
   "metadata": {
    "collapsed": false,
    "ExecuteTime": {
     "end_time": "2024-01-30T10:39:03.184120500Z",
     "start_time": "2024-01-30T10:39:02.283649300Z"
    }
   },
   "id": "27c2fc6db711cc17",
   "execution_count": 62
  },
  {
   "cell_type": "code",
   "outputs": [],
   "source": [
    "# Applying the model on test set\n",
    "# Show accuracy on test set\n",
    "test_encodings = tokenizer(X_test, truncation=True, padding=True)\n",
    "test_dataset = Dataset(test_encodings, y_test)\n",
    "\n",
    "test_dataloader = DataLoader(\n",
    "            test_dataset, # The validation samples.\n",
    "            sampler = SequentialSampler(test_dataset), # Pull out batches sequentially.\n",
    "            batch_size = batch_size # Evaluate with this batch size.\n",
    "        )"
   ],
   "metadata": {
    "collapsed": false,
    "ExecuteTime": {
     "end_time": "2024-01-30T10:43:50.901583100Z",
     "start_time": "2024-01-30T10:43:50.769123900Z"
    }
   },
   "id": "91ddda5e3f0ec208",
   "execution_count": 65
  },
  {
   "cell_type": "code",
   "outputs": [
    {
     "name": "stdout",
     "output_type": "stream",
     "text": [
      "Accuracy: 100.00\n",
      "Loss: 0.00\n"
     ]
    }
   ],
   "source": [
    "model.eval()\n",
    "total_accuracy = 0\n",
    "total_steps = 0\n",
    "total_loss = 0\n",
    "\n",
    "for batch in test_dataloader:\n",
    "    b_input_ids = batch['input_ids'].to('cuda')\n",
    "    b_input_mask = batch['attention_mask'].to('cuda')\n",
    "    b_labels = batch['labels'].to('cuda')\n",
    "    \n",
    "    with torch.no_grad():\n",
    "        outputs = model(b_input_ids, attention_mask=b_input_mask, labels=b_labels)\n",
    "    \n",
    "    logits = outputs[1].detach().cpu().numpy()\n",
    "    label_ids = b_labels.to('cpu').numpy()\n",
    "\n",
    "    total_accuracy += flat_accuracy(logits, label_ids)\n",
    "    total_loss += outputs[0].item()\n",
    "    total_steps += 1\n",
    "\n",
    "avg_accuracy = total_accuracy / total_steps\n",
    "avg_loss = total_loss / total_steps\n",
    "\n",
    "print(\"Accuracy: {0:.2f}\".format(avg_accuracy * 100))\n",
    "print(\"Loss: {0:.2f}\".format(avg_loss))"
   ],
   "metadata": {
    "collapsed": false,
    "ExecuteTime": {
     "end_time": "2024-01-30T10:44:35.072040500Z",
     "start_time": "2024-01-30T10:44:34.147631600Z"
    }
   },
   "id": "89990a53f006c69b",
   "execution_count": 69
  },
  {
   "cell_type": "markdown",
   "source": [
    "Maybe overfitting? or just good results?"
   ],
   "metadata": {
    "collapsed": false
   },
   "id": "6db4db1415b1573b"
  },
  {
   "cell_type": "code",
   "outputs": [],
   "source": [],
   "metadata": {
    "collapsed": false
   },
   "id": "89a2742bcd447b3a"
  }
 ],
 "metadata": {
  "kernelspec": {
   "display_name": "Python 3",
   "language": "python",
   "name": "python3"
  },
  "language_info": {
   "codemirror_mode": {
    "name": "ipython",
    "version": 2
   },
   "file_extension": ".py",
   "mimetype": "text/x-python",
   "name": "python",
   "nbconvert_exporter": "python",
   "pygments_lexer": "ipython2",
   "version": "2.7.6"
  }
 },
 "nbformat": 4,
 "nbformat_minor": 5
}
